{
  "nbformat": 4,
  "nbformat_minor": 0,
  "metadata": {
    "colab": {
      "provenance": [],
      "authorship_tag": "ABX9TyNfDZlS31H+Ru3bZPkBjJPo",
      "include_colab_link": true
    },
    "kernelspec": {
      "name": "python3",
      "display_name": "Python 3"
    },
    "language_info": {
      "name": "python"
    }
  },
  "cells": [
    {
      "cell_type": "markdown",
      "metadata": {
        "id": "view-in-github",
        "colab_type": "text"
      },
      "source": [
        "<a href=\"https://colab.research.google.com/github/Aman2568/codealpha_tasks/blob/main/LanguageTranslator.ipynb\" target=\"_parent\"><img src=\"https://colab.research.google.com/assets/colab-badge.svg\" alt=\"Open In Colab\"/></a>"
      ]
    },
    {
      "cell_type": "markdown",
      "source": [
        "# **Installing 'googletrans' library and setting up the envrionment**"
      ],
      "metadata": {
        "id": "vkzhkr5xkCDP"
      }
    },
    {
      "cell_type": "code",
      "source": [
        "!pip install googletrans==4.0.0-rc1"
      ],
      "metadata": {
        "colab": {
          "base_uri": "https://localhost:8080/"
        },
        "id": "bVplclkMjmHO",
        "outputId": "2a75ff8b-2c11-4dad-f745-58457793f360"
      },
      "execution_count": 2,
      "outputs": [
        {
          "output_type": "stream",
          "name": "stdout",
          "text": [
            "Collecting googletrans==4.0.0-rc1\n",
            "  Downloading googletrans-4.0.0rc1.tar.gz (20 kB)\n",
            "  Preparing metadata (setup.py) ... \u001b[?25l\u001b[?25hdone\n",
            "Collecting httpx==0.13.3 (from googletrans==4.0.0-rc1)\n",
            "  Downloading httpx-0.13.3-py3-none-any.whl (55 kB)\n",
            "\u001b[2K     \u001b[90m━━━━━━━━━━━━━━━━━━━━━━━━━━━━━━━━━━━━━━━━\u001b[0m \u001b[32m55.1/55.1 kB\u001b[0m \u001b[31m2.1 MB/s\u001b[0m eta \u001b[36m0:00:00\u001b[0m\n",
            "\u001b[?25hRequirement already satisfied: certifi in /usr/local/lib/python3.10/dist-packages (from httpx==0.13.3->googletrans==4.0.0-rc1) (2024.7.4)\n",
            "Collecting hstspreload (from httpx==0.13.3->googletrans==4.0.0-rc1)\n",
            "  Downloading hstspreload-2024.7.1-py3-none-any.whl (1.2 MB)\n",
            "\u001b[2K     \u001b[90m━━━━━━━━━━━━━━━━━━━━━━━━━━━━━━━━━━━━━━━━\u001b[0m \u001b[32m1.2/1.2 MB\u001b[0m \u001b[31m9.2 MB/s\u001b[0m eta \u001b[36m0:00:00\u001b[0m\n",
            "\u001b[?25hRequirement already satisfied: sniffio in /usr/local/lib/python3.10/dist-packages (from httpx==0.13.3->googletrans==4.0.0-rc1) (1.3.1)\n",
            "Collecting chardet==3.* (from httpx==0.13.3->googletrans==4.0.0-rc1)\n",
            "  Downloading chardet-3.0.4-py2.py3-none-any.whl (133 kB)\n",
            "\u001b[2K     \u001b[90m━━━━━━━━━━━━━━━━━━━━━━━━━━━━━━━━━━━━━━━━\u001b[0m \u001b[32m133.4/133.4 kB\u001b[0m \u001b[31m8.7 MB/s\u001b[0m eta \u001b[36m0:00:00\u001b[0m\n",
            "\u001b[?25hCollecting idna==2.* (from httpx==0.13.3->googletrans==4.0.0-rc1)\n",
            "  Downloading idna-2.10-py2.py3-none-any.whl (58 kB)\n",
            "\u001b[2K     \u001b[90m━━━━━━━━━━━━━━━━━━━━━━━━━━━━━━━━━━━━━━━━\u001b[0m \u001b[32m58.8/58.8 kB\u001b[0m \u001b[31m6.7 MB/s\u001b[0m eta \u001b[36m0:00:00\u001b[0m\n",
            "\u001b[?25hCollecting rfc3986<2,>=1.3 (from httpx==0.13.3->googletrans==4.0.0-rc1)\n",
            "  Downloading rfc3986-1.5.0-py2.py3-none-any.whl (31 kB)\n",
            "Collecting httpcore==0.9.* (from httpx==0.13.3->googletrans==4.0.0-rc1)\n",
            "  Downloading httpcore-0.9.1-py3-none-any.whl (42 kB)\n",
            "\u001b[2K     \u001b[90m━━━━━━━━━━━━━━━━━━━━━━━━━━━━━━━━━━━━━━━━\u001b[0m \u001b[32m42.6/42.6 kB\u001b[0m \u001b[31m4.1 MB/s\u001b[0m eta \u001b[36m0:00:00\u001b[0m\n",
            "\u001b[?25hCollecting h11<0.10,>=0.8 (from httpcore==0.9.*->httpx==0.13.3->googletrans==4.0.0-rc1)\n",
            "  Downloading h11-0.9.0-py2.py3-none-any.whl (53 kB)\n",
            "\u001b[2K     \u001b[90m━━━━━━━━━━━━━━━━━━━━━━━━━━━━━━━━━━━━━━━━\u001b[0m \u001b[32m53.6/53.6 kB\u001b[0m \u001b[31m5.8 MB/s\u001b[0m eta \u001b[36m0:00:00\u001b[0m\n",
            "\u001b[?25hCollecting h2==3.* (from httpcore==0.9.*->httpx==0.13.3->googletrans==4.0.0-rc1)\n",
            "  Downloading h2-3.2.0-py2.py3-none-any.whl (65 kB)\n",
            "\u001b[2K     \u001b[90m━━━━━━━━━━━━━━━━━━━━━━━━━━━━━━━━━━━━━━━━\u001b[0m \u001b[32m65.0/65.0 kB\u001b[0m \u001b[31m6.3 MB/s\u001b[0m eta \u001b[36m0:00:00\u001b[0m\n",
            "\u001b[?25hCollecting hyperframe<6,>=5.2.0 (from h2==3.*->httpcore==0.9.*->httpx==0.13.3->googletrans==4.0.0-rc1)\n",
            "  Downloading hyperframe-5.2.0-py2.py3-none-any.whl (12 kB)\n",
            "Collecting hpack<4,>=3.0 (from h2==3.*->httpcore==0.9.*->httpx==0.13.3->googletrans==4.0.0-rc1)\n",
            "  Downloading hpack-3.0.0-py2.py3-none-any.whl (38 kB)\n",
            "Building wheels for collected packages: googletrans\n",
            "  Building wheel for googletrans (setup.py) ... \u001b[?25l\u001b[?25hdone\n",
            "  Created wheel for googletrans: filename=googletrans-4.0.0rc1-py3-none-any.whl size=17395 sha256=156271cc4a11a2106a060a3cfa2e7cf80ff5865444a156effc880e7c746a4639\n",
            "  Stored in directory: /root/.cache/pip/wheels/c0/59/9f/7372f0cf70160fe61b528532e1a7c8498c4becd6bcffb022de\n",
            "Successfully built googletrans\n",
            "Installing collected packages: rfc3986, hyperframe, hpack, h11, chardet, idna, hstspreload, h2, httpcore, httpx, googletrans\n",
            "  Attempting uninstall: chardet\n",
            "    Found existing installation: chardet 5.2.0\n",
            "    Uninstalling chardet-5.2.0:\n",
            "      Successfully uninstalled chardet-5.2.0\n",
            "  Attempting uninstall: idna\n",
            "    Found existing installation: idna 3.7\n",
            "    Uninstalling idna-3.7:\n",
            "      Successfully uninstalled idna-3.7\n",
            "Successfully installed chardet-3.0.4 googletrans-4.0.0rc1 h11-0.9.0 h2-3.2.0 hpack-3.0.0 hstspreload-2024.7.1 httpcore-0.9.1 httpx-0.13.3 hyperframe-5.2.0 idna-2.10 rfc3986-1.5.0\n"
          ]
        }
      ]
    },
    {
      "cell_type": "markdown",
      "source": [
        "# **Python script to handle the translation using the googletrans library**"
      ],
      "metadata": {
        "id": "yRHGmBkmj5ED"
      }
    },
    {
      "cell_type": "code",
      "source": [
        "from googletrans import Translator #Importing the Translator class from googletrans\n",
        "\n",
        "# Define a function to translate text\n",
        "def translate_text_google(text, src_lang='auto', dest_lang='en'):\n",
        "    translator = Translator()\n",
        "    translation = translator.translate(text, src=src_lang, dest=dest_lang)\n",
        "    return translation.text\n",
        "\n",
        "# Example\n",
        "if __name__ == \"__main__\":\n",
        "    text_to_translate = input(\"Enter text to translate: \")\n",
        "    src_language = input(\"Enter source language code (or 'auto' to detect): \")\n",
        "    dest_language = input(\"Enter destination language code: \")\n",
        "\n",
        "    translated_text = translate_text_google(text_to_translate, src_lang=src_language, dest_lang=dest_language)\n",
        "    print(f'Translated text: {translated_text}')\n"
      ],
      "metadata": {
        "colab": {
          "base_uri": "https://localhost:8080/"
        },
        "id": "2fmulB7KkGAH",
        "outputId": "d148b539-5b90-4ccd-db5a-d41bbfc5a62e"
      },
      "execution_count": 3,
      "outputs": [
        {
          "output_type": "stream",
          "name": "stdout",
          "text": [
            "Enter text to translate: bonjour\n",
            "Enter source language code (or 'auto' to detect): auto\n",
            "Enter destination language code: en\n",
            "Translated text: bonjour\n"
          ]
        }
      ]
    },
    {
      "cell_type": "markdown",
      "source": [
        "***Example interaction***"
      ],
      "metadata": {
        "id": "QT31VI-7llDy"
      }
    },
    {
      "cell_type": "code",
      "source": [
        "text = input(\"Enter text to translate: \")\n",
        "source_language = input(\"Enter source language code (or 'auto' to detect): \")\n",
        "destination_language = input(\"Enter destination language code: \")\n",
        "translated_text = \"Hello the world\""
      ],
      "metadata": {
        "colab": {
          "base_uri": "https://localhost:8080/"
        },
        "id": "1hE3WWhYlkug",
        "outputId": "28849032-d114-49d7-9d12-6dfdac6ef771"
      },
      "execution_count": 5,
      "outputs": [
        {
          "name": "stdout",
          "output_type": "stream",
          "text": [
            "Enter text to translate: bonjour le monde\n",
            "Enter source language code (or 'auto' to detect): auto\n",
            "Enter destination language code: en\n"
          ]
        }
      ]
    },
    {
      "cell_type": "markdown",
      "source": [
        "***Enhancing the tool by adding the following features:\n",
        "\n",
        "1. Catch exceptions and provide user-friendly error messages.\n",
        "2. Automatically detect the source language if the user sets src_lang to 'auto'.\n",
        "3. Create a simple GUI using libraries like Tkinter.***"
      ],
      "metadata": {
        "id": "As6Te1MhmCs7"
      }
    },
    {
      "cell_type": "code",
      "source": [
        "from googletrans import Translator, LANGUAGES\n",
        "\n",
        "def translate_text_google(text, src_lang='auto', dest_lang='en'):\n",
        "    try:\n",
        "        translator = Translator()\n",
        "        translation = translator.translate(text, src=src_lang, dest=dest_lang)\n",
        "        return translation.text\n",
        "    except Exception as e:\n",
        "        return f\"Error: {str(e)}\"\n",
        "\n",
        "if __name__ == \"__main__\":\n",
        "    text_to_translate = input(\"Enter text to translate: \")\n",
        "    src_language = input(\"Enter source language code (or 'auto' to detect): \")\n",
        "    dest_language = input(\"Enter destination language code: \")\n",
        "\n",
        "    if src_language not in LANGUAGES.keys() and src_language != 'auto':\n",
        "        print(\"Invalid source language code.\")\n",
        "    elif dest_language not in LANGUAGES.keys():\n",
        "        print(\"Invalid destination language code.\")\n",
        "    else:\n",
        "        translated_text = translate_text_google(text_to_translate, src_lang=src_language, dest_lang=dest_language)\n",
        "        print(f'Translated text: {translated_text}')"
      ],
      "metadata": {
        "colab": {
          "base_uri": "https://localhost:8080/"
        },
        "id": "GXlv5poImUCg",
        "outputId": "1aaafd79-8d6b-4fbb-bf94-4cb48ee04735"
      },
      "execution_count": 7,
      "outputs": [
        {
          "output_type": "stream",
          "name": "stdout",
          "text": [
            "Enter text to translate: みなさん、おはようございます\n",
            "Enter source language code (or 'auto' to detect): auto\n",
            "Enter destination language code: en\n",
            "Translated text: Good morning everybody\n"
          ]
        }
      ]
    }
  ]
}